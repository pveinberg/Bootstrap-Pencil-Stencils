{
  "nbformat": 4,
  "nbformat_minor": 0,
  "metadata": {
    "colab": {
      "name": "Telegram",
      "provenance": [],
      "collapsed_sections": [],
      "authorship_tag": "ABX9TyMd7Y7OLE8CIiAIPX3AlPgS",
      "include_colab_link": true
    },
    "kernelspec": {
      "name": "python3",
      "display_name": "Python 3"
    },
    "language_info": {
      "name": "python"
    }
  },
  "cells": [
    {
      "cell_type": "markdown",
      "metadata": {
        "id": "view-in-github",
        "colab_type": "text"
      },
      "source": [
        "<a href=\"https://colab.research.google.com/github/pveinberg/Bootstrap-Pencil-Stencils/blob/master/Telegram.ipynb\" target=\"_parent\"><img src=\"https://colab.research.google.com/assets/colab-badge.svg\" alt=\"Open In Colab\"/></a>"
      ]
    },
    {
      "cell_type": "markdown",
      "source": [
        "https://docs.python-telegram-bot.org/en/stable/index.html\n",
        "\n",
        "https://docs.python-telegram-bot.org/en/stable/telegram.html\n",
        "\n",
        "\n"
      ],
      "metadata": {
        "id": "xliOxlYI4Qdj"
      }
    },
    {
      "cell_type": "markdown",
      "source": [
        ""
      ],
      "metadata": {
        "id": "UhBLsaIRQ2Fw"
      }
    },
    {
      "cell_type": "code",
      "execution_count": null,
      "metadata": {
        "id": "4PU4KGlyVx1R"
      },
      "outputs": [],
      "source": [
        "import pandas as pd "
      ]
    }
  ]
}